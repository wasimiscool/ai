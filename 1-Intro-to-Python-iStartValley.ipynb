{
 "cells": [
  {
   "cell_type": "markdown",
   "metadata": {
    "id": "H5ZgJ5A9jNoB"
   },
   "source": [
    "# 2. Python <a id='section 2'></a>\n",
    "\n",
    "**Python** is  programming language- a way for us to communicate with the computer and give it instructions. Just like any language, Python has a *vocabulary* made up of words it can understand, and a *syntax* giving the rules for how to structure communication.\n",
    "\n",
    "Like natural human languages, Python has rules.  It differs from natural language in two important ways:\n",
    "1. The rules are *simple*.  You can learn most of them in a few weeks and gain reasonable proficiency with the language in a few months.\n",
    "2. The rules are *rigid*.  If you're proficient in a natural language, you can understand a non-proficient speaker, glossing over small mistakes.  A computer running Python code is not smart enough to do that.\n",
    "\n",
    "In this notebook, we're going to learn a few of those rules."
   ]
  },
  {
   "cell_type": "markdown",
   "metadata": {
    "id": "ej0fzp52jNoG"
   },
   "source": [
    "## 2a. Expressions <a id='subsection 2a'></a>\n",
    "A piece of communication in Python is called an **expression**- it tells the computer what to do with the data we give it.\n",
    "\n",
    "Here's an example of an expression. "
   ]
  },
  {
   "cell_type": "code",
   "execution_count": null,
   "metadata": {
    "id": "N4XmgygejNoH"
   },
   "outputs": [],
   "source": [
    "# dependencies: THIS CELL MUST BE RUN\n",
    "import pandas as pd\n",
    "import numpy as np\n",
    "import math\n",
    "%matplotlib inline"
   ]
  },
  {
   "cell_type": "code",
   "execution_count": null,
   "metadata": {
    "id": "Ko2D9Jv0jNoI"
   },
   "outputs": [],
   "source": [
    "# an expression\n",
    "14 + 20"
   ]
  },
  {
   "cell_type": "markdown",
   "metadata": {
    "id": "47qNSw-4jNoI"
   },
   "source": [
    "When you run the cell, the computer **evaluates** the expression and prints the result. Note that only the last line in a code cell will ever be printed, unless you explicitly tell the computer you want to print the result."
   ]
  },
  {
   "cell_type": "code",
   "execution_count": null,
   "metadata": {
    "id": "2hadjVGwjNoJ"
   },
   "outputs": [],
   "source": [
    "# more expressions. When you run the cell, what gets printed and what doesn't?\n",
    "100 / 10\n",
    "\n",
    "print(4.3 + 10.98)\n",
    "\n",
    "print(33 - 9 * (40000 + 1))\n",
    "\n",
    "884"
   ]
  },
  {
   "cell_type": "markdown",
   "metadata": {
    "id": "UliLOH9RjNoK"
   },
   "source": [
    "Many basic arithmetic operations can be used in Python, like `*` (multiplication), `+` (addition), `-` (subtraction), and `/` (division). There are many others, which you can find information about [here](http://www.inferentialthinking.com/chapters/03/1/expressions.html). \n",
    "\n",
    "The computer evaluates arithmetic according to the PEMDAS order of operations (just like you may have learned in middle school): anything in parentheses is done first, followed by exponents, then multiplication and division, and finally addition and subtraction."
   ]
  },
  {
   "cell_type": "markdown",
   "metadata": {
    "id": "cAV4MGZCjNoL"
   },
   "source": [
    "<div class=\"alert alert-warning\"><b>EXERCISE:</b> According to the PEMDAS order of operations, what should the next cell print? Work it out in your head or on paper, then run the cell to check your answer."
   ]
  },
  {
   "cell_type": "code",
   "execution_count": null,
   "metadata": {
    "id": "QOGgo4zyjNoM"
   },
   "outputs": [],
   "source": [
    "# before you run this cell, can you say what it should print?\n",
    "# run the cell to check your answer\n",
    "print(4 - 2 * (1 + 6 / 3))"
   ]
  },
  {
   "cell_type": "markdown",
   "metadata": {
    "id": "RoFFvuY1jNoN"
   },
   "source": [
    "<div class=\"alert alert-info\"><b>OPTIONAL:</b> If you're new to programming, use the next cell to practice arithmetic operations on numbers using operators like `*` (multiplication), `+` (addition), `-` (subtraction), and `/` (division)"
   ]
  },
  {
   "cell_type": "code",
   "execution_count": null,
   "metadata": {
    "id": "L2Ds3v4TjNoP"
   },
   "outputs": [],
   "source": [
    "# practice doing arithmetic in Python\n",
    "(70-60)-5"
   ]
  },
  {
   "cell_type": "markdown",
   "metadata": {
    "id": "WRZTrtb8jNoQ"
   },
   "source": [
    "### A Note on Errors <a id=\"subsection error\"></a>\n",
    "\n",
    "Whenever you write code, you'll make mistakes.  When you run a code cell that has errors, Python will sometimes produce error messages to tell you what you did wrong.\n",
    "\n",
    "Errors are okay; even experienced programmers make many errors.  When you make an error, you just have to find the source of the problem, fix it, and move on.\n",
    "\n",
    "We have made an error in the next cell.  Run it and see what happens."
   ]
  },
  {
   "cell_type": "code",
   "execution_count": null,
   "metadata": {
    "id": "IfWMwsvUjNoR"
   },
   "outputs": [],
   "source": [
    "print(\"My Name is MJ.\")"
   ]
  },
  {
   "cell_type": "markdown",
   "metadata": {
    "id": "8s3jqdWkjNoR"
   },
   "source": [
    "You should see something like this (minus our annotations):\n",
    "\n",
    "<img src=\"images/error.jpg\"/>\n",
    "\n",
    "The last line of the error output attempts to tell you what went wrong.  The *syntax* of a language is its structure, and this `SyntaxError` tells you that you have created an illegal structure.  \"`EOF`\" means \"end of file,\" so the message is saying Python expected you to write something more (in this case, a right parenthesis) before finishing the cell.\n",
    "\n",
    "There's a lot of terminology in programming languages, but you don't need to know it all in order to program effectively. If you see a cryptic message like this, you can often get by without fully deciphering it. "
   ]
  },
  {
   "cell_type": "markdown",
   "metadata": {
    "id": "D6lWKzK9jNoS"
   },
   "source": [
    "<div class=\"alert alert-warning\"><b> EXERCISE</b>: Scroll back up to the cell that generated an error. Fix the error, and re-run the cell to check that the error has been fixed. </div>"
   ]
  },
  {
   "cell_type": "markdown",
   "metadata": {
    "id": "gjv9uU81jNoS"
   },
   "source": [
    "## 2b. Names <a id='subsection 2b'></a>\n",
    "Sometimes, the values you work with can get cumbersome- maybe the expression that gives the value is very complicated, or maybe the value itself is long. In these cases it's useful to give the value a **name**.\n",
    "\n",
    "We can name values using what's called an *assignment* statement."
   ]
  },
  {
   "cell_type": "code",
   "execution_count": null,
   "metadata": {
    "id": "3erJzCN2jNoT"
   },
   "outputs": [],
   "source": [
    "# assigns 442 to x\n",
    "x = 442"
   ]
  },
  {
   "cell_type": "markdown",
   "metadata": {
    "id": "Uqj8ExY7jNoT"
   },
   "source": [
    "The assignment statement has three parts. On the left is the *name* (`x`). On the right is the *value* (442). The *equals sign* in the middle tells the computer to assign the value to the name.\n",
    "\n",
    "You'll notice that when you run the cell with the assignment, it doesn't print anything. But, if we try to access `x` again in the future, it will have the value we assigned it."
   ]
  },
  {
   "cell_type": "code",
   "execution_count": null,
   "metadata": {
    "id": "zLBiZ5W1jNoU"
   },
   "outputs": [],
   "source": [
    "# print the value of x\n",
    "x\n",
    "print (x)"
   ]
  },
  {
   "cell_type": "markdown",
   "metadata": {
    "id": "xsX61iAGjNoV"
   },
   "source": [
    "You can also assign names to expressions. The computer will compute the expression and assign the name to the result of the computation."
   ]
  },
  {
   "cell_type": "code",
   "execution_count": null,
   "metadata": {
    "id": "ppHtxZnqjNoV"
   },
   "outputs": [],
   "source": [
    "y = 50 * 2 + 1\n",
    "y"
   ]
  },
  {
   "cell_type": "markdown",
   "metadata": {
    "id": "ZPNDtErRjNoW"
   },
   "source": [
    "We can then use these name as if they were numbers."
   ]
  },
  {
   "cell_type": "code",
   "execution_count": null,
   "metadata": {
    "id": "Ky7tYgRtjNoX"
   },
   "outputs": [],
   "source": [
    "x - 42"
   ]
  },
  {
   "cell_type": "code",
   "execution_count": null,
   "metadata": {
    "id": "rJJTyzTFjNoY"
   },
   "outputs": [],
   "source": [
    "x + y"
   ]
  },
  {
   "cell_type": "markdown",
   "metadata": {
    "id": "2XlM7N4PjNoY"
   },
   "source": [
    "<div class=\"alert alert-warning\"><p><b>EXERCISE:</b> Before Rocket Fuel can evaluate the effectiveness of the ad campaign, they need to know how much it cost.</p>\n",
    "\n",
    "<p>The *total number of advertisements* was $14597182$. The *CPM* (cost per thousand ads) was $\\$9$. Use these numbers to assign the correct values to `total_ads`, `cpm`, and `cost_per_ad`.</p>\n",
    "\n",
    "<p>Note: for the third variable, we want the cost *for each ad*. What do we need to do to the CPM to get the per-ad cost?</p></div>"
   ]
  },
  {
   "cell_type": "code",
   "execution_count": null,
   "metadata": {
    "id": "if_bAQlzjNoZ"
   },
   "outputs": [],
   "source": [
    "# replace the ... with the total number of ads\n",
    "total_ads = 14597182\n",
    "total_ads"
   ]
  },
  {
   "cell_type": "code",
   "execution_count": null,
   "metadata": {
    "id": "Lx99Gv0KjNoZ"
   },
   "outputs": [],
   "source": [
    "# replace the ... with the cost per thousand ads\n",
    "cpm = 9\n",
    "cpm"
   ]
  },
  {
   "cell_type": "code",
   "execution_count": null,
   "metadata": {
    "id": "BHQmBtnQjNoZ"
   },
   "outputs": [],
   "source": [
    "# replace the ... with an expression to calculate the cost per ad\n",
    "cost_per_ad = (cpm/1000)\n",
    "cost_per_ad"
   ]
  },
  {
   "cell_type": "markdown",
   "metadata": {
    "id": "_t1UTSckjNoa"
   },
   "source": [
    "<div class=\"alert alert-warning\"> <p><b>EXERCISE</b>: Then, calculate the overall cost by multiplying the number of ads by how much each ad cost. Assign this value to the name `cost`.</p>\n",
    "\n",
    "<p>Hint: you can do the calculation by using only using `total_ads`, `cost_per_ad`, and the `*` multiplication operator- no numbers needed. Your answer should be a six-digit number (before the decimal).</p>"
   ]
  },
  {
   "cell_type": "code",
   "execution_count": 1,
   "metadata": {
    "id": "46OMQ8nvjNoa"
   },
   "outputs": [
    {
     "ename": "NameError",
     "evalue": "name 'total_ads' is not defined",
     "output_type": "error",
     "traceback": [
      "\u001b[0;31m---------------------------------------------------------------------------\u001b[0m",
      "\u001b[0;31mNameError\u001b[0m                                 Traceback (most recent call last)",
      "Cell \u001b[0;32mIn[1], line 2\u001b[0m\n\u001b[1;32m      1\u001b[0m \u001b[38;5;66;03m# replace the ... with an expression to calculate the cost of the ad campaign\u001b[39;00m\n\u001b[0;32m----> 2\u001b[0m cost \u001b[38;5;241m=\u001b[39m (total_ads\u001b[38;5;241m*\u001b[39mcost_per_ad)\n\u001b[1;32m      3\u001b[0m cost\n",
      "\u001b[0;31mNameError\u001b[0m: name 'total_ads' is not defined"
     ]
    }
   ],
   "source": [
    "# replace the ... with an expression to calculate the cost of the ad campaign\n",
    "cost = (total_ads*cost_per_ad)\n",
    "cost"
   ]
  },
  {
   "cell_type": "markdown",
   "metadata": {
    "id": "jWg7vREUjNob"
   },
   "source": [
    "## 2c. Functions <a id='subsection 2c'></a>\n",
    "We've seen that values can have names (often called **variables**), but operations may also have names. A named operation is called a **function**. Python has some functions built into it."
   ]
  },
  {
   "cell_type": "code",
   "execution_count": null,
   "metadata": {
    "id": "wd76xuxHjNoc"
   },
   "outputs": [],
   "source": [
    "# a built-in function \n",
    "round"
   ]
  },
  {
   "cell_type": "markdown",
   "metadata": {
    "id": "BQInGO0rjNod"
   },
   "source": [
    "Functions get used in *call expressions*, where a function is named and given values to operate on inside a set of parentheses. The `round` function returns the number it was given, rounded to the nearest whole number."
   ]
  },
  {
   "cell_type": "code",
   "execution_count": 2,
   "metadata": {
    "id": "dmtKQquKjNod"
   },
   "outputs": [
    {
     "data": {
      "text/plain": [
       "1988"
      ]
     },
     "execution_count": 2,
     "metadata": {},
     "output_type": "execute_result"
    }
   ],
   "source": [
    "# a call expression using round\n",
    "round(1988.3469976878668)"
   ]
  },
  {
   "cell_type": "markdown",
   "metadata": {
    "id": "sZxX8qlPjNoe"
   },
   "source": [
    "A function may also be called on more than one value (called *arguments*). For instance, the `min` function takes however many arguments you'd like and returns the smallest. Multiple arguments are separated by commas."
   ]
  },
  {
   "cell_type": "code",
   "execution_count": null,
   "metadata": {
    "id": "vFk4vgU_jNoe"
   },
   "outputs": [],
   "source": [
    "min(9, -34, 0, 99)"
   ]
  },
  {
   "cell_type": "markdown",
   "metadata": {
    "id": "h_pLFFrcjNoe"
   },
   "source": [
    "<div class= \"alert alert-warning\"><p><b>PRACTICE:</b></p>\n",
    "<ul>\n",
    "    <li>The `abs` function takes one argument (just like `round`)</li>\n",
    "    <li>The `max` function takes one or more arguments (just like `min`)</li>\n",
    "    </ul>\n",
    "\n",
    "<p>Try calling `abs` and `max` in the cell below. What does each function do?</p>\n",
    "\n",
    "<p>Also try calling each function *incorrectly*, such as with the wrong number of arguments. What kinds of error messages do you see?</p>"
   ]
  },
  {
   "cell_type": "code",
   "execution_count": null,
   "metadata": {
    "id": "AAFzh0XrjNof"
   },
   "outputs": [],
   "source": [
    "# replace the ... with calls to abs and max\n",
    "max(2, 5, 4)"
   ]
  },
  {
   "cell_type": "markdown",
   "metadata": {
    "id": "6nr4EvmkjNof"
   },
   "source": [
    "### Dot Notation\n",
    "Python has a lot of [built-in functions](https://docs.python.org/3/library/functions.html) (that is, functions that are already named and defined in Python), but even more functions are stored in collections called *modules*. Earlier, we imported the `math` module so we could use it later. Once a module is imported, you can use its functions by typing the name of the module, then the name of the function you want from it, separated with a `.`."
   ]
  },
  {
   "cell_type": "code",
   "execution_count": null,
   "metadata": {
    "id": "ek3s23E3jNof"
   },
   "outputs": [],
   "source": [
    "# a call expression with the factorial function from the math module\n",
    "math.factorial(5)"
   ]
  },
  {
   "cell_type": "markdown",
   "metadata": {
    "id": "kL-M3Yf3jNof"
   },
   "source": [
    "<div class=\"alert alert-warning\"><b>PRACTICE:</b>  `math` also has a function called `sqrt` that takes one argument and returns the square root. Call `math.sqrt` on 16 in the next cell."
   ]
  },
  {
   "cell_type": "code",
   "execution_count": null,
   "metadata": {
    "id": "aiS7WHnUjNog",
    "scrolled": true
   },
   "outputs": [],
   "source": [
    "# use math.sqrt to get the square root of 16\n",
    "root_16 = math.sqrt(16)\n",
    "\n",
    "# show the result of the expression\n",
    "root_16"
   ]
  },
  {
   "cell_type": "markdown",
   "metadata": {
    "id": "9aY3J72fjNog"
   },
   "source": [
    "## 2d. Sequences <a id='subsection 2d'></a>\n",
    "\n",
    "Working with big data, we want to be able to work with many values at the same time rather than manipulating each data point individually. We can do this using *sequences*: collections of data, all sharing the same type (e.g. numerical). \n",
    "\n",
    "The sequence we'll work with the most is an **array**. Arrays are made using the `np.array` function. \n",
    "\n",
    "As an example, we might look at prices for a TaskBella handbag at different stores."
   ]
  },
  {
   "cell_type": "code",
   "execution_count": null,
   "metadata": {
    "id": "ejzxiqevjNoh"
   },
   "outputs": [],
   "source": [
    "# make an array\n",
    "prices = np.array([105.99, 99.99, 119.95, 130, 124.99])\n",
    "\n",
    "prices"
   ]
  },
  {
   "cell_type": "markdown",
   "metadata": {
    "id": "jQN_EvjwjNoh"
   },
   "source": [
    "You can retrieve items in an array by **indexing**. To index an item, put the numerical position of the item in square brackets next to the name of the array."
   ]
  },
  {
   "cell_type": "code",
   "execution_count": null,
   "metadata": {
    "id": "qqiDUJ2ojNoh"
   },
   "outputs": [],
   "source": [
    "# get the item in position 1\n",
    "prices[0]"
   ]
  },
  {
   "cell_type": "markdown",
   "metadata": {
    "id": "fcw-NrrJjNoh"
   },
   "source": [
    "When we ask for the item in position 1, we get $99.99$. This is because arrays are *zero-indexed*: the index starts counting at zero. So, the first item in the array is at position 0, the second item is at position 1, and so on."
   ]
  },
  {
   "cell_type": "markdown",
   "metadata": {
    "id": "Wa1Mo5qKjNoi"
   },
   "source": [
    "<div class=\"alert alert-warning\"><b>PRACTICE:</b> Try indexing the second-to-last item from the `prices` array. Save it to the name `next_to_last_price`.</div>"
   ]
  },
  {
   "cell_type": "code",
   "execution_count": null,
   "metadata": {
    "id": "bxC0efo3jNoi"
   },
   "outputs": [],
   "source": [
    "# index the second-to-last item in the list\n",
    "next_to_last_price = prices[3]\n",
    "\n",
    "# show the second-to-last item in the array\n",
    "next_to_last_price"
   ]
  },
  {
   "cell_type": "markdown",
   "metadata": {
    "id": "ZXeSqGbhjNoi"
   },
   "source": [
    "### Element-wise operations\n",
    "In some cases, we may want to do calculations on each individual item in the array to return a new array of the same length.\n",
    "\n",
    "We can do the *same operation* on every array item using arithmetic operators. This is called an **element-wise** operation. For instance, we might want to calculate the price for $5$ handbags bought at each of the different stores."
   ]
  },
  {
   "cell_type": "code",
   "execution_count": 1,
   "metadata": {
    "colab": {
     "base_uri": "https://localhost:8080/",
     "height": 180
    },
    "executionInfo": {
     "elapsed": 142,
     "status": "error",
     "timestamp": 1625973199681,
     "user": {
      "displayName": "kavitha challa",
      "photoUrl": "",
      "userId": "04573362790768129389"
     },
     "user_tz": 300
    },
    "id": "_ofqfeHdjNoj",
    "outputId": "c820367e-33de-437c-f966-3bc93209cdc2"
   },
   "outputs": [
    {
     "ename": "NameError",
     "evalue": "ignored",
     "output_type": "error",
     "traceback": [
      "\u001b[0;31m---------------------------------------------------------------------------\u001b[0m",
      "\u001b[0;31mNameError\u001b[0m                                 Traceback (most recent call last)",
      "\u001b[0;32m<ipython-input-1-567ec321d438>\u001b[0m in \u001b[0;36m<module>\u001b[0;34m()\u001b[0m\n\u001b[1;32m      1\u001b[0m \u001b[0;31m# multiply each price by 5\u001b[0m\u001b[0;34m\u001b[0m\u001b[0;34m\u001b[0m\u001b[0;34m\u001b[0m\u001b[0m\n\u001b[0;32m----> 2\u001b[0;31m \u001b[0mprices\u001b[0m \u001b[0;34m*\u001b[0m \u001b[0;36m5\u001b[0m\u001b[0;34m\u001b[0m\u001b[0;34m\u001b[0m\u001b[0m\n\u001b[0m",
      "\u001b[0;31mNameError\u001b[0m: name 'prices' is not defined"
     ]
    }
   ],
   "source": [
    "# multiply each price by 5\n",
    "prices * 5"
   ]
  },
  {
   "cell_type": "markdown",
   "metadata": {
    "id": "LlXT1RnHjNoj"
   },
   "source": [
    "We can also use operators on two arrays of the same length to operate on each pair of corresponding elements. For example, we might multiply our `prices` array by an array of tax rates for each store to get the amount of sales tax."
   ]
  },
  {
   "cell_type": "code",
   "execution_count": null,
   "metadata": {
    "executionInfo": {
     "elapsed": 14,
     "status": "aborted",
     "timestamp": 1625973199668,
     "user": {
      "displayName": "kavitha challa",
      "photoUrl": "",
      "userId": "04573362790768129389"
     },
     "user_tz": 300
    },
    "id": "wTqb3OsFjNoj"
   },
   "outputs": [],
   "source": [
    "tax_rates = np.array([0.095, 0.11, 0.087, 0.1, 0.084])\n",
    "\n",
    "# multiply each price by its corresponding tax\n",
    "prices * tax_rates"
   ]
  },
  {
   "cell_type": "markdown",
   "metadata": {
    "id": "tFtdSAjkjNok"
   },
   "source": [
    "### Reductions\n",
    "In other cases, we might want to *reduce* an array of numbers to a single value using a particular function. Some examples of reduction functions are `sum`, `min`, `max`, `average`, and `median`. Many array functions come from the *Numpy* module. Just like with the `math` module, we can call functions from the Numpy module using dot notation. Numpy is abbreviated as `np`."
   ]
  },
  {
   "cell_type": "code",
   "execution_count": null,
   "metadata": {
    "id": "9LsgR-IvjNok"
   },
   "outputs": [],
   "source": [
    " # get the average handbag price\n",
    "np.average(prices)"
   ]
  },
  {
   "cell_type": "code",
   "execution_count": null,
   "metadata": {
    "id": "gkbULP9HjNok"
   },
   "outputs": [],
   "source": [
    "# get the lowest sales tax rate\n",
    "np.min(tax_rates)"
   ]
  },
  {
   "cell_type": "markdown",
   "metadata": {
    "id": "CvJ5NvdSjNok"
   },
   "source": [
    "<div class=\"alert alert-warning\"> <b>EXERCISE:</b> Use the `prices` and `tax_rates` arrays to try some operations. <ol>\n",
    "    <li>replace the first ellipses with an expression to add 10 to each price.</li>\n",
    "    <li>replace the second set of ellipses with an expression to divide all taxes in half</li>\n",
    "    <li>replace the last set of ellipses to create a variable `max_price` that is the largest price in the `prices` array. Use the function `np.max`</li>\n",
    "    </ol>\n",
    "    </div>"
   ]
  },
  {
   "cell_type": "code",
   "execution_count": null,
   "metadata": {
    "id": "CYbBZ-LujNol"
   },
   "outputs": [],
   "source": [
    "#  use an element-wise operation to add 10 to all the prices\n",
    "price_plus_10 = prices+10\n",
    "price_plus_10"
   ]
  },
  {
   "cell_type": "code",
   "execution_count": null,
   "metadata": {
    "id": "MxDuK-wwjNol"
   },
   "outputs": [],
   "source": [
    "# use an element-wise operation to divide all the taxes values by 2\n",
    "taxes_reduced_by_half = tax_rates/2\n",
    "taxes_reduced_by_half"
   ]
  },
  {
   "cell_type": "code",
   "execution_count": null,
   "metadata": {
    "id": "8-F2uoxqjNol"
   },
   "outputs": [],
   "source": [
    "#  use the np.max reduction function to get the maximum value from the prices array\n",
    "max_price = np.max(prices)\n",
    "max_price"
   ]
  },
  {
   "cell_type": "code",
   "execution_count": null,
   "metadata": {
    "id": "-d_Dh1QbjNom"
   },
   "outputs": [],
   "source": []
  }
 ],
 "metadata": {
  "colab": {
   "name": "1-Intro-to-Python-iStartValley.ipynb",
   "provenance": []
  },
  "kernelspec": {
   "display_name": "Python 3 (ipykernel)",
   "language": "python",
   "name": "python3"
  },
  "language_info": {
   "codemirror_mode": {
    "name": "ipython",
    "version": 3
   },
   "file_extension": ".py",
   "mimetype": "text/x-python",
   "name": "python",
   "nbconvert_exporter": "python",
   "pygments_lexer": "ipython3",
   "version": "3.11.5"
  }
 },
 "nbformat": 4,
 "nbformat_minor": 1
}
