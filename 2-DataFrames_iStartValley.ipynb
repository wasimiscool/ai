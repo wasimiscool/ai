{
 "cells": [
  {
   "cell_type": "markdown",
   "metadata": {},
   "source": [
    "## The Data: Rocket Fuel Ad Campaign <a id='section3'></a>\n",
    "\n",
    "Rocket Fuel Inc. (NASDAQ: FUEL), works in digital advertising offering a \"Programmatic Marketing Platform\" that claims to optimize digital marketing through big data and machine learning techniques.\n",
    "\n",
    "In 2015, Rocket Fuel ran a trial ad campaign for handbag manufacturer TaskBella. TaskBella was interested in answering two questions:\n",
    "\n",
    "- Would the campaign be successful?\n",
    "- If the campaign was successful, how much of that success could be attributed to the ads?\n",
    "\n",
    "With the second question in mind, they agreed to run an A/B test. The majority of the people exposed to Rocket Fuel's content delivery network would see TaskBella's handbag ad (the experimental group). But, a small portion of people (the control group) would instead see a Public Service Announcement (PSA) in the exact size and place the ad would normally be.\n",
    " \n",
    "In this notebook, we'll duplicate some of their analysis. First, we'll look at whether there is any difference between the two groups.\n",
    "\n",
    "\n",
    "## 3. DataFrames <a id='section3'></a>\n",
    "\n",
    "The last notebook covered four basic concepts of Python: expressions, names, functions, and sequences. In this next section, we'll see just how much we can do to examine and manipulate our data with only these minimal Python skills.\n",
    "\n",
    "To work with our data, we're going to use a free Python library (collection of code) called **Pandas**. Pandas contains many many functions and other code useful for working with tabular data. The name is an abbreviation of \"panel data\". It is commonly used in industry and research for data analysis.\n",
    "\n",
    "Run the next cell to import Pandas so we can use it. We're going to give Pandas the standard **alias** \"pd\" so that we don't have to type the whole name every time we want to use it."
   ]
  },
  {
   "cell_type": "code",
   "execution_count": 1,
   "metadata": {},
   "outputs": [],
   "source": [
    "# load necessary software: THIS CELL MUST BE RUN\n",
    "import pandas as pd\n",
    "import numpy as np\n",
    "%matplotlib inline"
   ]
  },
  {
   "cell_type": "markdown",
   "metadata": {},
   "source": [
    "## 3a.  Reading in data<a id='section3a'></a>\n",
    "\n",
    "Real-life data is often stored in spreadsheets, including our Rocket Fuel data, which is in a *csv* (*comma-separated-values*) file. \n",
    "\n",
    "Pandas has a function called `read_csv` which we can use to load our data. To use any Pandas function, we will use **dot notation**: first we type `pd` so the computer knows to look in the Pandas library, then we type the name of the function we want, separated by a dot.\n",
    "\n",
    "The `read_csv` function takes one argument: a string with the location of the csv file. The location can be either a URL or a local file path. "
   ]
  },
  {
   "cell_type": "code",
   "execution_count": 12,
   "metadata": {},
   "outputs": [
    {
     "data": {
      "text/html": [
       "<div>\n",
       "<style scoped>\n",
       "    .dataframe tbody tr th:only-of-type {\n",
       "        vertical-align: middle;\n",
       "    }\n",
       "\n",
       "    .dataframe tbody tr th {\n",
       "        vertical-align: top;\n",
       "    }\n",
       "\n",
       "    .dataframe thead th {\n",
       "        text-align: right;\n",
       "    }\n",
       "</style>\n",
       "<table border=\"1\" class=\"dataframe\">\n",
       "  <thead>\n",
       "    <tr style=\"text-align: right;\">\n",
       "      <th></th>\n",
       "      <th>test group</th>\n",
       "      <th>converted</th>\n",
       "      <th>total ads</th>\n",
       "      <th>most ads day</th>\n",
       "      <th>most ads hour</th>\n",
       "    </tr>\n",
       "    <tr>\n",
       "      <th>user id</th>\n",
       "      <th></th>\n",
       "      <th></th>\n",
       "      <th></th>\n",
       "      <th></th>\n",
       "      <th></th>\n",
       "    </tr>\n",
       "  </thead>\n",
       "  <tbody>\n",
       "    <tr>\n",
       "      <th>1069124</th>\n",
       "      <td>ad</td>\n",
       "      <td>0</td>\n",
       "      <td>130</td>\n",
       "      <td>1:Mon</td>\n",
       "      <td>20</td>\n",
       "    </tr>\n",
       "    <tr>\n",
       "      <th>1119715</th>\n",
       "      <td>ad</td>\n",
       "      <td>0</td>\n",
       "      <td>93</td>\n",
       "      <td>2:Tues</td>\n",
       "      <td>22</td>\n",
       "    </tr>\n",
       "    <tr>\n",
       "      <th>1144181</th>\n",
       "      <td>ad</td>\n",
       "      <td>0</td>\n",
       "      <td>21</td>\n",
       "      <td>2:Tues</td>\n",
       "      <td>18</td>\n",
       "    </tr>\n",
       "    <tr>\n",
       "      <th>1435133</th>\n",
       "      <td>ad</td>\n",
       "      <td>0</td>\n",
       "      <td>355</td>\n",
       "      <td>2:Tues</td>\n",
       "      <td>10</td>\n",
       "    </tr>\n",
       "    <tr>\n",
       "      <th>1015700</th>\n",
       "      <td>ad</td>\n",
       "      <td>0</td>\n",
       "      <td>276</td>\n",
       "      <td>5:Fri</td>\n",
       "      <td>14</td>\n",
       "    </tr>\n",
       "  </tbody>\n",
       "</table>\n",
       "</div>"
      ],
      "text/plain": [
       "        test group  converted  total ads most ads day  most ads hour\n",
       "user id                                                             \n",
       "1069124         ad          0        130        1:Mon             20\n",
       "1119715         ad          0         93       2:Tues             22\n",
       "1144181         ad          0         21       2:Tues             18\n",
       "1435133         ad          0        355       2:Tues             10\n",
       "1015700         ad          0        276        5:Fri             14"
      ]
     },
     "execution_count": 12,
     "metadata": {},
     "output_type": "execute_result"
    }
   ],
   "source": [
    "# run this cell to load the data\n",
    "ads = pd.read_csv('data/rocketfuel_data_renamed.csv', index_col=0)\n",
    "\n",
    "# display the first 5 rows of the ads data\n",
    "ads.head()"
   ]
  },
  {
   "cell_type": "markdown",
   "metadata": {},
   "source": [
    "Our data is now contained in a Pandas object called a **DataFrame**. The rest of this notebook deals with how to work with DataFrames.\n",
    "\n",
    "As a reminder, here's the **data dictionary**, which explains what each column in the DataFrame contains.\n",
    "\n",
    "| user id                             | test group                                                                                                        | converted                                | total ads                                           | most ads day                                                     | most ads hour                                                        |\n",
    "|-------------------------------------|-------------------------------------------------------------------------------------------------------------------|------------------------------------------|-----------------------------------------------------|------------------------------------------------------------------|----------------------------------------------------------------------|\n",
    "| The unique identifier for that user |  Which testing group the user was in: \"ad\"- where users saw the ads (the experimental group) or \"psa\"- where users saw the PSAs (the control)| Whether or not the user bought a handbag (True if they did, False if they didn't)| The total number of ads (or PSAs) seen by that user | The day of the week on which the user saw the most ads (or PSAs) | The hour of the day during which the user saw the most ads (or PSAs) |"
   ]
  },
  {
   "cell_type": "markdown",
   "metadata": {},
   "source": [
    "## 3b. Explore the data: attributes and methods <a id='section3b'></a>\n",
    "\n",
    "Before we start working with the data, we should know a bit about it.\n",
    "\n",
    "### Attributes\n",
    "\n",
    "Every DataFrame has **attributes** that give information about it, like the number of rows and the number of columns. Attributes are accessed using the dot method. But, since an attribute doesn't perform an operation, there are no parentheses (like there would be in a call expression that calls a function).\n",
    "\n",
    "Here's an example. The `columns` attribute returns a list of the names of the columns in the DataFrame."
   ]
  },
  {
   "cell_type": "code",
   "execution_count": 3,
   "metadata": {},
   "outputs": [
    {
     "data": {
      "text/plain": [
       "Index(['test group', 'converted', 'total ads', 'most ads day',\n",
       "       'most ads hour'],\n",
       "      dtype='object')"
      ]
     },
     "execution_count": 3,
     "metadata": {},
     "output_type": "execute_result"
    }
   ],
   "source": [
    "# get the names of columns\n",
    "ads.columns"
   ]
  },
  {
   "cell_type": "markdown",
   "metadata": {},
   "source": [
    "<div class=\"alert alert-warning\"><b>EXERCISE: </b>One extremely useful attribute is `shape`, which returns the number of rows and columns in the DataFrame, separated by commas. In the next cell, get the `shape` attribute from the `ads` DataFrame.</div>"
   ]
  },
  {
   "cell_type": "code",
   "execution_count": 4,
   "metadata": {},
   "outputs": [
    {
     "data": {
      "text/plain": [
       "(588101, 5)"
      ]
     },
     "execution_count": 4,
     "metadata": {},
     "output_type": "execute_result"
    }
   ],
   "source": [
    "# get the shape of the DataFrame\n",
    "data_shape = ads.shape\n",
    "data_shape"
   ]
  },
  {
   "cell_type": "markdown",
   "metadata": {},
   "source": [
    "### Methods\n",
    "\n",
    "A **method** is a lot like a function:\n",
    "- methods perform operations\n",
    "- methods are called using a set of parentheses\n",
    "- methods may have a set of arguments\n",
    "\n",
    "But, a method is associated with an object like a DataFrame. Functions are not associated with any Python object.\n",
    "\n",
    "Methods are called using dot notation. The name of the DataFrame comes before the dot, and the method comes after, followed by the parentheses. If the method takes any arguments, those go inside the parentheses.\n",
    "\n",
    "Here's an example of the `head` method, which shows the first ten rows of the DataFrame."
   ]
  },
  {
   "cell_type": "code",
   "execution_count": null,
   "metadata": {},
   "outputs": [],
   "source": [
    "# show the first five rows of the DataFrame\n",
    "ads_head = ads.head()\n",
    "ads_head"
   ]
  },
  {
   "cell_type": "markdown",
   "metadata": {},
   "source": [
    "<div class=\"alert alert-warning\"><p><b>EXERCISE:</b> the `describe` method is incredibly useful for learning about your data. `describe` returns summary statistics about the numerical data in your DataFrame: things like the count of non-empty items in each column, the average, the minimum, and the maximum. </p>\n",
    "\n",
    "<p>In the next cell, call the `describe` method on your DataFrame. This call will look very similar to the example where the `head` method was called; only the name of the method changes.</p></div>"
   ]
  },
  {
   "cell_type": "code",
   "execution_count": null,
   "metadata": {},
   "outputs": [],
   "source": [
    "# use dot notation to call \"describe\" on the ads table in place of the ellipses\n",
    "ads_description_MJ = ads.describe()\n",
    "ads_description_MJ"
   ]
  },
  {
   "cell_type": "markdown",
   "metadata": {},
   "source": [
    "## 3c. Selecting columns <a id='section3c'></a>\n",
    "\n",
    "Suppose we want to answer the question of whether the ad campaign was profitable. Not all of our columns are relevant to this question, like `\"most ads hour\"`. We can save computational resources and avoid confusion by *transforming* our table before we start work.\n",
    "\n",
    "We can access a single column using **indexing**, like we did with sequences in Notebook 02. In Notebook 02, we indexed items from an array by their numerical position:"
   ]
  },
  {
   "cell_type": "code",
   "execution_count": null,
   "metadata": {},
   "outputs": [],
   "source": [
    "# an array of prices\n",
    "prices = np.array([105.99, 99.99, 119.95, 130, 124.99])\n",
    "\n",
    "# index the item in position 2 of the array\n",
    "prices[2]"
   ]
  },
  {
   "cell_type": "markdown",
   "metadata": {},
   "source": [
    "We can index a column from a DataFrame by its name. Put the string name of the column inside square brackets to the right of the DataFrame to index it.\n",
    "\n",
    "<div class=\"alert alert-info\">Remember, a string must be surrounded by matching quotation marks.</div>"
   ]
  },
  {
   "cell_type": "code",
   "execution_count": null,
   "metadata": {
    "scrolled": true
   },
   "outputs": [],
   "source": [
    "# index the total ads column\n",
    "total_ads_col = ads[\"total ads\"]\n",
    "total_ads_col"
   ]
  },
  {
   "cell_type": "markdown",
   "metadata": {},
   "source": [
    "<div class= \"alert alert-warning\"><b>EXERCISE</b>: Use square brackets to index the \"converted\" column.</div>"
   ]
  },
  {
   "cell_type": "code",
   "execution_count": null,
   "metadata": {},
   "outputs": [],
   "source": [
    "# index the \"converted\" column\n",
    "converted_col = ads[\"converted\"]\n",
    "converted_col"
   ]
  },
  {
   "cell_type": "markdown",
   "metadata": {},
   "source": [
    "## 3d. Filtering rows <a id='section3d'></a>\n",
    "Some analysis questions only deal with a subset of rows. How often do users convert when they saw the most ads during business hours (8AM-5PM)? What was the total number of ads seen by the control group? Was the conversion rate greater when users saw more ads on Monday than on Tuesday?\n",
    "\n",
    "To filter rows, we need to use **Boolean operators**. To review from Notebook 02, a **Boolean** is a data type that has only two possible values: `True` or `False`. Booleans show up in bold green in the notebook.\n"
   ]
  },
  {
   "cell_type": "code",
   "execution_count": null,
   "metadata": {},
   "outputs": [],
   "source": [
    "# Boolean values\n",
    "True\n",
    "\n",
    "False"
   ]
  },
  {
   "cell_type": "markdown",
   "metadata": {},
   "source": [
    "**Boolean operators** are operators that have the result of `True` or `False`.\n",
    "\n",
    "| Operator | Meaning                    | What it does                                                                           |\n",
    "|----------|----------------------------|----------------------------------------------------------------------------------------|\n",
    "| ==       | \"equal to\"                 | returns `True` if the item on the left is equal to the item on the right               |\n",
    "| >        | \"greater than\"             | returns `True` if the item on the left is larger than the item on the right            |\n",
    "| <        | \"less than\"                | returns `True` if the item on the left is smaller than the item on the right           |\n",
    "| >=       | \"greater than or equal to\" | returns `True` if the item on the left is larger or the same as the item on the right  |\n",
    "| <=       | \"less than or equal to\"    | returns `True` if the item on the left is smaller or the same as the item on the right |\n",
    "\n",
    "Here's an example of using a Boolean operator on some numbers:"
   ]
  },
  {
   "cell_type": "code",
   "execution_count": null,
   "metadata": {},
   "outputs": [],
   "source": [
    "# compare two numbers to see if the first one is bigger\n",
    "100 > 99"
   ]
  },
  {
   "cell_type": "markdown",
   "metadata": {},
   "source": [
    "We can also use a Boolean operator on a column, to make a comparison for each item in the column."
   ]
  },
  {
   "cell_type": "code",
   "execution_count": null,
   "metadata": {},
   "outputs": [],
   "source": [
    "# get the \"most ads day\" column\n",
    "total_ads = ads[\"most ads day\"]\n",
    "\n",
    "# show the first 5 items of the \"most ads day\" column\n",
    "total_ads.head()"
   ]
  },
  {
   "cell_type": "code",
   "execution_count": null,
   "metadata": {
    "scrolled": true
   },
   "outputs": [],
   "source": [
    "# check whether the day someone saw the most ads was Monday\n",
    "total_ads == \"1:Mon\""
   ]
  },
  {
   "cell_type": "markdown",
   "metadata": {},
   "source": [
    "If we index a DataFrame or column by an array of Booleans, we will get only the rows or items for which the condition is True."
   ]
  },
  {
   "cell_type": "code",
   "execution_count": null,
   "metadata": {},
   "outputs": [],
   "source": [
    "# get rows with users who saw the most ads on Monday\n",
    "monday_ads = ads[ads[\"most ads day\"] == \"1:Mon\"]\n",
    "monday_ads"
   ]
  },
  {
   "cell_type": "markdown",
   "metadata": {},
   "source": [
    "This syntax can be a bit confusing. Note that \n",
    "* the part outside of the square brackets to the left is the DataFrame out of which we want to filter rows\n",
    "* everything in the square brackets is the condition we want to use to filter rows\n",
    "\n",
    "Here's another example. Outside of the brackets is the `ads` DataFrame, from which we want only certain rows. Inside the brackets is the condition to select the rows: we want to see only the users who saw more than 500 ads, so we're selecting the \"total ads\" column and using `>` to see which items have a value of more than 500. \n"
   ]
  },
  {
   "cell_type": "code",
   "execution_count": null,
   "metadata": {},
   "outputs": [],
   "source": [
    "# example 2: get all rows that had more than 500 total ads\n",
    "ads[ads[\"total ads\"] > 500]"
   ]
  },
  {
   "cell_type": "markdown",
   "metadata": {},
   "source": [
    "<div class=\"alert alert-warning\"><p><b>EXERCISE:</b> \n",
    "Oftentimes, we want to calculate statistics separately for the control and experimental groups. Create two tables, one containing only rows where the user was in the `\"ad\"` group (the experimental group) and one with only rows where the user was in the `\"psa\"` group (the control group).</p>\n",
    "\n",
    "<p>Hint: We've given you the code to create this for the experiment group. Fill in the appropriate value to select users who did NOT see ads.</p>"
   ]
  },
  {
   "cell_type": "code",
   "execution_count": 12,
   "metadata": {},
   "outputs": [
    {
     "data": {
      "text/html": [
       "<div>\n",
       "<style scoped>\n",
       "    .dataframe tbody tr th:only-of-type {\n",
       "        vertical-align: middle;\n",
       "    }\n",
       "\n",
       "    .dataframe tbody tr th {\n",
       "        vertical-align: top;\n",
       "    }\n",
       "\n",
       "    .dataframe thead th {\n",
       "        text-align: right;\n",
       "    }\n",
       "</style>\n",
       "<table border=\"1\" class=\"dataframe\">\n",
       "  <thead>\n",
       "    <tr style=\"text-align: right;\">\n",
       "      <th></th>\n",
       "      <th>test group</th>\n",
       "      <th>converted</th>\n",
       "      <th>total ads</th>\n",
       "      <th>most ads day</th>\n",
       "      <th>most ads hour</th>\n",
       "    </tr>\n",
       "    <tr>\n",
       "      <th>user id</th>\n",
       "      <th></th>\n",
       "      <th></th>\n",
       "      <th></th>\n",
       "      <th></th>\n",
       "      <th></th>\n",
       "    </tr>\n",
       "  </thead>\n",
       "  <tbody>\n",
       "    <tr>\n",
       "      <th>1069124</th>\n",
       "      <td>ad</td>\n",
       "      <td>0</td>\n",
       "      <td>130</td>\n",
       "      <td>1:Mon</td>\n",
       "      <td>20</td>\n",
       "    </tr>\n",
       "    <tr>\n",
       "      <th>1119715</th>\n",
       "      <td>ad</td>\n",
       "      <td>0</td>\n",
       "      <td>93</td>\n",
       "      <td>2:Tues</td>\n",
       "      <td>22</td>\n",
       "    </tr>\n",
       "    <tr>\n",
       "      <th>1144181</th>\n",
       "      <td>ad</td>\n",
       "      <td>0</td>\n",
       "      <td>21</td>\n",
       "      <td>2:Tues</td>\n",
       "      <td>18</td>\n",
       "    </tr>\n",
       "    <tr>\n",
       "      <th>1435133</th>\n",
       "      <td>ad</td>\n",
       "      <td>0</td>\n",
       "      <td>355</td>\n",
       "      <td>2:Tues</td>\n",
       "      <td>10</td>\n",
       "    </tr>\n",
       "    <tr>\n",
       "      <th>1015700</th>\n",
       "      <td>ad</td>\n",
       "      <td>0</td>\n",
       "      <td>276</td>\n",
       "      <td>5:Fri</td>\n",
       "      <td>14</td>\n",
       "    </tr>\n",
       "  </tbody>\n",
       "</table>\n",
       "</div>"
      ],
      "text/plain": [
       "        test group  converted  total ads most ads day  most ads hour\n",
       "user id                                                             \n",
       "1069124         ad          0        130        1:Mon             20\n",
       "1119715         ad          0         93       2:Tues             22\n",
       "1144181         ad          0         21       2:Tues             18\n",
       "1435133         ad          0        355       2:Tues             10\n",
       "1015700         ad          0        276        5:Fri             14"
      ]
     },
     "execution_count": 12,
     "metadata": {},
     "output_type": "execute_result"
    }
   ],
   "source": [
    "# users in the experiment group\n",
    "experiment = ads[ads[\"test group\"] == \"ad\"]\n",
    "experiment.head()"
   ]
  },
  {
   "cell_type": "code",
   "execution_count": 11,
   "metadata": {
    "scrolled": true
   },
   "outputs": [
    {
     "data": {
      "text/html": [
       "<div>\n",
       "<style scoped>\n",
       "    .dataframe tbody tr th:only-of-type {\n",
       "        vertical-align: middle;\n",
       "    }\n",
       "\n",
       "    .dataframe tbody tr th {\n",
       "        vertical-align: top;\n",
       "    }\n",
       "\n",
       "    .dataframe thead th {\n",
       "        text-align: right;\n",
       "    }\n",
       "</style>\n",
       "<table border=\"1\" class=\"dataframe\">\n",
       "  <thead>\n",
       "    <tr style=\"text-align: right;\">\n",
       "      <th></th>\n",
       "      <th>test group</th>\n",
       "      <th>converted</th>\n",
       "      <th>total ads</th>\n",
       "      <th>most ads day</th>\n",
       "      <th>most ads hour</th>\n",
       "    </tr>\n",
       "    <tr>\n",
       "      <th>user id</th>\n",
       "      <th></th>\n",
       "      <th></th>\n",
       "      <th></th>\n",
       "      <th></th>\n",
       "      <th></th>\n",
       "    </tr>\n",
       "  </thead>\n",
       "  <tbody>\n",
       "    <tr>\n",
       "      <th>900681</th>\n",
       "      <td>psa</td>\n",
       "      <td>0</td>\n",
       "      <td>248</td>\n",
       "      <td>6:Sat</td>\n",
       "      <td>19</td>\n",
       "    </tr>\n",
       "    <tr>\n",
       "      <th>905704</th>\n",
       "      <td>psa</td>\n",
       "      <td>0</td>\n",
       "      <td>27</td>\n",
       "      <td>4:Thurs</td>\n",
       "      <td>8</td>\n",
       "    </tr>\n",
       "    <tr>\n",
       "      <th>904595</th>\n",
       "      <td>psa</td>\n",
       "      <td>0</td>\n",
       "      <td>13</td>\n",
       "      <td>2:Tues</td>\n",
       "      <td>19</td>\n",
       "    </tr>\n",
       "    <tr>\n",
       "      <th>901904</th>\n",
       "      <td>psa</td>\n",
       "      <td>0</td>\n",
       "      <td>32</td>\n",
       "      <td>3:Wed</td>\n",
       "      <td>19</td>\n",
       "    </tr>\n",
       "    <tr>\n",
       "      <th>902234</th>\n",
       "      <td>psa</td>\n",
       "      <td>0</td>\n",
       "      <td>105</td>\n",
       "      <td>2:Tues</td>\n",
       "      <td>19</td>\n",
       "    </tr>\n",
       "  </tbody>\n",
       "</table>\n",
       "</div>"
      ],
      "text/plain": [
       "        test group  converted  total ads most ads day  most ads hour\n",
       "user id                                                             \n",
       "900681         psa          0        248        6:Sat             19\n",
       "905704         psa          0         27      4:Thurs              8\n",
       "904595         psa          0         13       2:Tues             19\n",
       "901904         psa          0         32        3:Wed             19\n",
       "902234         psa          0        105       2:Tues             19"
      ]
     },
     "execution_count": 11,
     "metadata": {},
     "output_type": "execute_result"
    }
   ],
   "source": [
    "# users in the control group\n",
    "# fill in the ellipses with the correct text to select users who saw psas\n",
    "control = ads[ads[\"test group\"] == \"psa\"]\n",
    "control.head()"
   ]
  },
  {
   "cell_type": "code",
   "execution_count": 13,
   "metadata": {},
   "outputs": [
    {
     "data": {
      "text/plain": [
       "2065"
      ]
     },
     "execution_count": 13,
     "metadata": {},
     "output_type": "execute_result"
    }
   ],
   "source": [
    "experiment = ads[ads[\"test group\"] == \"ad\"]\n",
    "total_ads = experiment[\"total ads\"]\n",
    "max_value = total_ads.max()\n",
    "max_value"
   ]
  },
  {
   "cell_type": "code",
   "execution_count": 14,
   "metadata": {},
   "outputs": [
    {
     "data": {
      "text/plain": [
       "907"
      ]
     },
     "execution_count": 14,
     "metadata": {},
     "output_type": "execute_result"
    }
   ],
   "source": [
    "control = ads[ads[\"test group\"] == \"psa\"]\n",
    "total_ads = control[\"total ads\"]\n",
    "max_control_value = total_ads.max()\n",
    "max_control_value"
   ]
  },
  {
   "cell_type": "code",
   "execution_count": null,
   "metadata": {},
   "outputs": [],
   "source": []
  }
 ],
 "metadata": {
  "kernelspec": {
   "display_name": "Python 3 (ipykernel)",
   "language": "python",
   "name": "python3"
  },
  "language_info": {
   "codemirror_mode": {
    "name": "ipython",
    "version": 3
   },
   "file_extension": ".py",
   "mimetype": "text/x-python",
   "name": "python",
   "nbconvert_exporter": "python",
   "pygments_lexer": "ipython3",
   "version": "3.11.5"
  }
 },
 "nbformat": 4,
 "nbformat_minor": 2
}
